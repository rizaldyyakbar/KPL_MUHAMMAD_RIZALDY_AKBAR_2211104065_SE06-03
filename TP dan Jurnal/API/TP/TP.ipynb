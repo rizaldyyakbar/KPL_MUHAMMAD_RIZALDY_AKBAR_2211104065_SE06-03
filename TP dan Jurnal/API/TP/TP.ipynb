{
  "cells": [
    {
      "cell_type": "code",
      "execution_count": 1,
      "id": "04d09a03",
      "metadata": {
        "colab": {
          "base_uri": "https://localhost:8080/"
        },
        "id": "04d09a03",
        "outputId": "040b0df7-72dd-4b3d-ea8a-1c84fb134976"
      },
      "outputs": [
        {
          "output_type": "stream",
          "name": "stdout",
          "text": [
            "Collecting fastapi\n",
            "  Downloading fastapi-0.115.12-py3-none-any.whl.metadata (27 kB)\n",
            "Collecting uvicorn\n",
            "  Downloading uvicorn-0.34.2-py3-none-any.whl.metadata (6.5 kB)\n",
            "Requirement already satisfied: nest-asyncio in /usr/local/lib/python3.11/dist-packages (1.6.0)\n",
            "Collecting pyngrok\n",
            "  Downloading pyngrok-7.2.9-py3-none-any.whl.metadata (9.3 kB)\n",
            "Collecting starlette<0.47.0,>=0.40.0 (from fastapi)\n",
            "  Downloading starlette-0.46.2-py3-none-any.whl.metadata (6.2 kB)\n",
            "Requirement already satisfied: pydantic!=1.8,!=1.8.1,!=2.0.0,!=2.0.1,!=2.1.0,<3.0.0,>=1.7.4 in /usr/local/lib/python3.11/dist-packages (from fastapi) (2.11.4)\n",
            "Requirement already satisfied: typing-extensions>=4.8.0 in /usr/local/lib/python3.11/dist-packages (from fastapi) (4.13.2)\n",
            "Requirement already satisfied: click>=7.0 in /usr/local/lib/python3.11/dist-packages (from uvicorn) (8.2.1)\n",
            "Requirement already satisfied: h11>=0.8 in /usr/local/lib/python3.11/dist-packages (from uvicorn) (0.16.0)\n",
            "Requirement already satisfied: PyYAML>=5.1 in /usr/local/lib/python3.11/dist-packages (from pyngrok) (6.0.2)\n",
            "Requirement already satisfied: annotated-types>=0.6.0 in /usr/local/lib/python3.11/dist-packages (from pydantic!=1.8,!=1.8.1,!=2.0.0,!=2.0.1,!=2.1.0,<3.0.0,>=1.7.4->fastapi) (0.7.0)\n",
            "Requirement already satisfied: pydantic-core==2.33.2 in /usr/local/lib/python3.11/dist-packages (from pydantic!=1.8,!=1.8.1,!=2.0.0,!=2.0.1,!=2.1.0,<3.0.0,>=1.7.4->fastapi) (2.33.2)\n",
            "Requirement already satisfied: typing-inspection>=0.4.0 in /usr/local/lib/python3.11/dist-packages (from pydantic!=1.8,!=1.8.1,!=2.0.0,!=2.0.1,!=2.1.0,<3.0.0,>=1.7.4->fastapi) (0.4.1)\n",
            "Requirement already satisfied: anyio<5,>=3.6.2 in /usr/local/lib/python3.11/dist-packages (from starlette<0.47.0,>=0.40.0->fastapi) (4.9.0)\n",
            "Requirement already satisfied: idna>=2.8 in /usr/local/lib/python3.11/dist-packages (from anyio<5,>=3.6.2->starlette<0.47.0,>=0.40.0->fastapi) (3.10)\n",
            "Requirement already satisfied: sniffio>=1.1 in /usr/local/lib/python3.11/dist-packages (from anyio<5,>=3.6.2->starlette<0.47.0,>=0.40.0->fastapi) (1.3.1)\n",
            "Downloading fastapi-0.115.12-py3-none-any.whl (95 kB)\n",
            "\u001b[2K   \u001b[90m━━━━━━━━━━━━━━━━━━━━━━━━━━━━━━━━━━━━━━━━\u001b[0m \u001b[32m95.2/95.2 kB\u001b[0m \u001b[31m3.9 MB/s\u001b[0m eta \u001b[36m0:00:00\u001b[0m\n",
            "\u001b[?25hDownloading uvicorn-0.34.2-py3-none-any.whl (62 kB)\n",
            "\u001b[2K   \u001b[90m━━━━━━━━━━━━━━━━━━━━━━━━━━━━━━━━━━━━━━━━\u001b[0m \u001b[32m62.5/62.5 kB\u001b[0m \u001b[31m3.3 MB/s\u001b[0m eta \u001b[36m0:00:00\u001b[0m\n",
            "\u001b[?25hDownloading pyngrok-7.2.9-py3-none-any.whl (25 kB)\n",
            "Downloading starlette-0.46.2-py3-none-any.whl (72 kB)\n",
            "\u001b[2K   \u001b[90m━━━━━━━━━━━━━━━━━━━━━━━━━━━━━━━━━━━━━━━━\u001b[0m \u001b[32m72.0/72.0 kB\u001b[0m \u001b[31m4.4 MB/s\u001b[0m eta \u001b[36m0:00:00\u001b[0m\n",
            "\u001b[?25hInstalling collected packages: uvicorn, pyngrok, starlette, fastapi\n",
            "Successfully installed fastapi-0.115.12 pyngrok-7.2.9 starlette-0.46.2 uvicorn-0.34.2\n"
          ]
        }
      ],
      "source": [
        "# ─── Install library yang dibutuhkan ─────────────────────────\n",
        "!pip install fastapi uvicorn nest-asyncio pyngrok\n",
        "\n",
        "# ─── Import Library ───────────────────────────────────────────\n",
        "from fastapi import FastAPI\n",
        "from pydantic import BaseModel\n",
        "from typing import List\n",
        "import nest_asyncio\n",
        "from pyngrok import ngrok, conf\n",
        "import uvicorn\n",
        "\n",
        "\n",
        "\n"
      ]
    },
    {
      "cell_type": "code",
      "source": [
        "# ─── Inisialisasi Aplikasi ───────────────────────────────────\n",
        "app = FastAPI()\n",
        "\n",
        "# ─── Autentikasi Ngrok (ganti token sesuai akun) ─────────────\n",
        "conf.get_default().auth_token = \"2xoe1iLvB1oewvMCMdaY9KYsHiZ_6UTySbRnStUwA48EVf3jY\"\n"
      ],
      "metadata": {
        "id": "J1G31EXkNSc0"
      },
      "id": "J1G31EXkNSc0",
      "execution_count": 2,
      "outputs": []
    },
    {
      "cell_type": "code",
      "source": [
        "# ─── Model Data Mahasiswa ────────────────────────────────────\n",
        "class Mahasiswa(BaseModel):\n",
        "    nama: str\n",
        "    nim: str\n",
        "\n",
        "# ─── Data Statis Mahasiswa (anggota kelompok) ────────────────\n",
        "mahasiswa_storage: List[dict] = [\n",
        "    {\"nama\": \"Muhammad Rizaldy Akbar\", \"nim\": \"2211104065\"},\n",
        "    {\"nama\": \"JeBron Lames\", \"nim\": \"1302000001\"},\n",
        "    {\"nama\": \"Ctephen Surry\", \"nim\": \"1302000002\"}\n",
        "]"
      ],
      "metadata": {
        "id": "u34HuMZLNWjO"
      },
      "id": "u34HuMZLNWjO",
      "execution_count": 3,
      "outputs": []
    },
    {
      "cell_type": "code",
      "source": [
        "# ─── ENDPOINTS ────────────────────────────────────────────────\n",
        "\n",
        "@app.get(\"/api/mahasiswa\")\n",
        "def get_all_mahasiswa():\n",
        "    return mahasiswa_storage\n",
        "\n",
        "@app.get(\"/api/mahasiswa/{index}\")\n",
        "def get_mahasiswa(index: int):\n",
        "    if 0 <= index < len(mahasiswa_storage):\n",
        "        return mahasiswa_storage[index]\n",
        "    raise HTTPException(status_code=404, detail=\"Mahasiswa tidak ditemukan\")\n",
        "\n",
        "@app.post(\"/api/mahasiswa\")\n",
        "def add_mahasiswa(mhs: Mahasiswa):\n",
        "    mahasiswa_storage.append(mhs.dict())\n",
        "    return {\"status\": \"berhasil\", \"pesan\": \"Mahasiswa berhasil ditambahkan\"}\n",
        "\n",
        "@app.delete(\"/api/mahasiswa/{index}\")\n",
        "def delete_mahasiswa(index: int):\n",
        "    if 0 <= index < len(mahasiswa_storage):\n",
        "        deleted = mahasiswa_storage.pop(index)\n",
        "        return {\"status\": \"berhasil\", \"pesan\": \"Mahasiswa dihapus\", \"data\": deleted}\n",
        "    raise HTTPException(status_code=404, detail=\"Mahasiswa tidak ditemukan\")\n",
        "\n",
        "# ─── Jalankan Server dengan Ngrok ────────────────────────────\n",
        "nest_asyncio.apply()\n",
        "tunnel_url = ngrok.connect(8000)\n",
        "print(\"🚀 Swagger UI:\", tunnel_url.public_url + \"/docs\")\n",
        "print(\"🚀 Endpoint API:\", tunnel_url.public_url)\n",
        "\n",
        "uvicorn.run(app, port=8000)"
      ],
      "metadata": {
        "colab": {
          "base_uri": "https://localhost:8080/"
        },
        "id": "2kjfcapXNdzx",
        "outputId": "fbd402a9-bea7-4618-ad06-fedf30fa7ff4"
      },
      "id": "2kjfcapXNdzx",
      "execution_count": null,
      "outputs": [
        {
          "output_type": "stream",
          "name": "stdout",
          "text": []
        },
        {
          "output_type": "stream",
          "name": "stderr",
          "text": [
            "INFO:     Started server process [274]\n",
            "INFO:     Waiting for application startup.\n",
            "INFO:     Application startup complete.\n",
            "INFO:     Uvicorn running on http://127.0.0.1:8000 (Press CTRL+C to quit)\n"
          ]
        },
        {
          "output_type": "stream",
          "name": "stdout",
          "text": [
            "🚀 Swagger UI: https://9b2e-104-155-211-63.ngrok-free.app/docs\n",
            "🚀 Endpoint API: https://9b2e-104-155-211-63.ngrok-free.app\n",
            "INFO:     158.140.167.48:0 - \"GET /docs HTTP/1.1\" 200 OK\n",
            "INFO:     158.140.167.48:0 - \"GET /openapi.json HTTP/1.1\" 200 OK\n"
          ]
        }
      ]
    }
  ],
  "metadata": {
    "language_info": {
      "name": "python"
    },
    "colab": {
      "provenance": []
    },
    "kernelspec": {
      "name": "python3",
      "display_name": "Python 3"
    }
  },
  "nbformat": 4,
  "nbformat_minor": 5
}