{
  "nbformat": 4,
  "nbformat_minor": 0,
  "metadata": {
    "colab": {
      "provenance": []
    },
    "kernelspec": {
      "name": "python3",
      "display_name": "Python 3"
    },
    "language_info": {
      "name": "python"
    }
  },
  "cells": [
    {
      "cell_type": "code",
      "execution_count": 3,
      "metadata": {
        "colab": {
          "base_uri": "https://localhost:8080/"
        },
        "collapsed": true,
        "id": "0IqUGiaBX3zM",
        "outputId": "e311a1a7-2964-43f4-933c-a44db860945b"
      },
      "outputs": [
        {
          "output_type": "stream",
          "name": "stdout",
          "text": [
            "Requirement already satisfied: fastapi in /usr/local/lib/python3.11/dist-packages (0.115.12)\n",
            "Requirement already satisfied: uvicorn in /usr/local/lib/python3.11/dist-packages (0.34.2)\n",
            "Requirement already satisfied: nest-asyncio in /usr/local/lib/python3.11/dist-packages (1.6.0)\n",
            "Requirement already satisfied: pyngrok in /usr/local/lib/python3.11/dist-packages (7.2.9)\n",
            "Requirement already satisfied: starlette<0.47.0,>=0.40.0 in /usr/local/lib/python3.11/dist-packages (from fastapi) (0.46.2)\n",
            "Requirement already satisfied: pydantic!=1.8,!=1.8.1,!=2.0.0,!=2.0.1,!=2.1.0,<3.0.0,>=1.7.4 in /usr/local/lib/python3.11/dist-packages (from fastapi) (2.11.4)\n",
            "Requirement already satisfied: typing-extensions>=4.8.0 in /usr/local/lib/python3.11/dist-packages (from fastapi) (4.13.2)\n",
            "Requirement already satisfied: click>=7.0 in /usr/local/lib/python3.11/dist-packages (from uvicorn) (8.2.1)\n",
            "Requirement already satisfied: h11>=0.8 in /usr/local/lib/python3.11/dist-packages (from uvicorn) (0.16.0)\n",
            "Requirement already satisfied: PyYAML>=5.1 in /usr/local/lib/python3.11/dist-packages (from pyngrok) (6.0.2)\n",
            "Requirement already satisfied: annotated-types>=0.6.0 in /usr/local/lib/python3.11/dist-packages (from pydantic!=1.8,!=1.8.1,!=2.0.0,!=2.0.1,!=2.1.0,<3.0.0,>=1.7.4->fastapi) (0.7.0)\n",
            "Requirement already satisfied: pydantic-core==2.33.2 in /usr/local/lib/python3.11/dist-packages (from pydantic!=1.8,!=1.8.1,!=2.0.0,!=2.0.1,!=2.1.0,<3.0.0,>=1.7.4->fastapi) (2.33.2)\n",
            "Requirement already satisfied: typing-inspection>=0.4.0 in /usr/local/lib/python3.11/dist-packages (from pydantic!=1.8,!=1.8.1,!=2.0.0,!=2.0.1,!=2.1.0,<3.0.0,>=1.7.4->fastapi) (0.4.1)\n",
            "Requirement already satisfied: anyio<5,>=3.6.2 in /usr/local/lib/python3.11/dist-packages (from starlette<0.47.0,>=0.40.0->fastapi) (4.9.0)\n",
            "Requirement already satisfied: idna>=2.8 in /usr/local/lib/python3.11/dist-packages (from anyio<5,>=3.6.2->starlette<0.47.0,>=0.40.0->fastapi) (3.10)\n",
            "Requirement already satisfied: sniffio>=1.1 in /usr/local/lib/python3.11/dist-packages (from anyio<5,>=3.6.2->starlette<0.47.0,>=0.40.0->fastapi) (1.3.1)\n"
          ]
        }
      ],
      "source": [
        "!pip install fastapi uvicorn nest-asyncio pyngrok\n",
        "\n",
        "from fastapi import FastAPI, HTTPException\n",
        "from pydantic import BaseModel\n",
        "from typing import List\n",
        "import nest_asyncio\n",
        "from pyngrok import ngrok, conf\n",
        "import uvicorn"
      ]
    },
    {
      "cell_type": "code",
      "source": [
        "app = FastAPI()\n",
        "\n",
        "conf.get_default().auth_token = \"2xoe1iLvB1oewvMCMdaY9KYsHiZ_6UTySbRnStUwA48EVf3jY\""
      ],
      "metadata": {
        "id": "jdZK98sCZg9X"
      },
      "execution_count": 5,
      "outputs": []
    },
    {
      "cell_type": "code",
      "source": [
        "class Film(BaseModel):\n",
        "    title: str\n",
        "    director: str\n",
        "    cast: List[str]\n",
        "    synopsis: str\n",
        "\n",
        "film_storage = [\n",
        "    {\n",
        "        \"title\": \"Inception\",\n",
        "        \"director\": \"Christopher Nolan\",\n",
        "        \"cast\": [\"Leonardo DiCaprio\", \"Joseph Gordon-Levitt\", \"Ellen Page\"],\n",
        "        \"synopsis\": \"Seorang pencuri yang memiliki kemampuan untuk masuk ke dalam mimpi orang lain ditugaskan untuk menanamkan ide ke dalam pikiran targetnya.\"\n",
        "    },\n",
        "    {\n",
        "        \"title\": \"Interstellar\",\n",
        "        \"director\": \"Christopher Nolan\",\n",
        "        \"cast\": [\"Matthew McConaughey\", \"Anne Hathaway\", \"Jessica Chastain\"],\n",
        "        \"synopsis\": \"Sebuah tim penjelajah ruang angkasa melakukan perjalanan melalui wormhole untuk mencari planet baru yang layak huni bagi umat manusia.\"\n",
        "    },\n",
        "    {\n",
        "        \"title\": \"Parasite\",\n",
        "        \"director\": \"Bong Joon-ho\",\n",
        "        \"cast\": [\"Song Kang-ho\", \"Lee Sun-kyun\", \"Cho Yeo-jeong\"],\n",
        "        \"synopsis\": \"Keluarga miskin di Korea menyusup ke kehidupan keluarga kaya, mengakibatkan serangkaian kejadian tak terduga yang penuh ketegangan dan satire sosial.\"\n",
        "    },\n",
        "]"
      ],
      "metadata": {
        "id": "-GPZRxNYZj-k"
      },
      "execution_count": 6,
      "outputs": []
    },
    {
      "cell_type": "code",
      "source": [
        "\n",
        "@app.get(\"/api/Movies\")\n",
        "def tampilkan_semua_film():\n",
        "    return film_storage\n",
        "\n",
        "@app.get(\"/api/Movies/{film_id}\")\n",
        "def ambil_film_berdasarkan_id(film_id: int):\n",
        "    if 0 <= film_id < len(film_storage):\n",
        "        return film_storage[film_id]\n",
        "    return {\"status\": \"gagal\", \"pesan\": \"Film tidak ditemukan\"}\n",
        "\n",
        "@app.post(\"/api/Movies\")\n",
        "def tambah_film(film: Film):\n",
        "    film_storage.append(film.dict())\n",
        "    return {\"status\": \"berhasil\", \"pesan\": \"Film berhasil ditambahkan\"}\n",
        "\n",
        "@app.delete(\"/api/Movies/{film_id}\")\n",
        "def hapus_film(film_id: int):\n",
        "    if 0 <= film_id < len(film_storage):\n",
        "        data_dihapus = film_storage.pop(film_id)\n",
        "        return {\"status\": \"berhasil\", \"pesan\": \"Film dihapus\", \"film\": data_dihapus}\n",
        "    return {\"status\": \"gagal\", \"pesan\": \"Film tidak ditemukan\"}"
      ],
      "metadata": {
        "id": "GaLs70ZdZkFR"
      },
      "execution_count": 7,
      "outputs": []
    },
    {
      "cell_type": "code",
      "source": [
        "nest_asyncio.apply()\n",
        "tunnel_url = ngrok.connect(8000)\n",
        "print(\"🎥 Swagger UI:\", tunnel_url.public_url + \"/docs\")\n",
        "print(\"🎥 API Endpoint:\", tunnel_url.public_url)\n",
        "\n",
        "uvicorn.run(app, port=8000)"
      ],
      "metadata": {
        "colab": {
          "base_uri": "https://localhost:8080/"
        },
        "id": "rrDKRUf8ZUG6",
        "outputId": "2968276e-3932-4c7e-b21c-82aac8f59f1d"
      },
      "execution_count": 9,
      "outputs": [
        {
          "output_type": "stream",
          "name": "stderr",
          "text": [
            "INFO:     Started server process [305]\n",
            "INFO:     Waiting for application startup.\n",
            "INFO:     Application startup complete.\n",
            "INFO:     Uvicorn running on http://127.0.0.1:8000 (Press CTRL+C to quit)\n"
          ]
        },
        {
          "output_type": "stream",
          "name": "stdout",
          "text": [
            "🎥 Swagger UI: https://e80b-34-106-203-137.ngrok-free.app/docs\n",
            "🎥 API Endpoint: https://e80b-34-106-203-137.ngrok-free.app\n",
            "INFO:     158.140.167.42:0 - \"GET /docs HTTP/1.1\" 200 OK\n",
            "INFO:     158.140.167.42:0 - \"GET /openapi.json HTTP/1.1\" 200 OK\n",
            "INFO:     158.140.167.1:0 - \"GET /api/Movies HTTP/1.1\" 200 OK\n",
            "INFO:     158.140.167.10:0 - \"POST /api/Movies HTTP/1.1\" 200 OK\n"
          ]
        },
        {
          "output_type": "stream",
          "name": "stderr",
          "text": [
            "<ipython-input-7-5493f33fdb39>:13: PydanticDeprecatedSince20: The `dict` method is deprecated; use `model_dump` instead. Deprecated in Pydantic V2.0 to be removed in V3.0. See Pydantic V2 Migration Guide at https://errors.pydantic.dev/2.11/migration/\n",
            "  film_storage.append(film.dict())\n"
          ]
        },
        {
          "output_type": "stream",
          "name": "stdout",
          "text": [
            "INFO:     158.140.167.10:0 - \"GET /api/Movies/2 HTTP/1.1\" 200 OK\n",
            "INFO:     158.140.167.10:0 - \"DELETE /api/Movies/2 HTTP/1.1\" 200 OK\n",
            "INFO:     158.140.167.10:0 - \"DELETE /api/Movies/2 HTTP/1.1\" 200 OK\n"
          ]
        },
        {
          "output_type": "stream",
          "name": "stderr",
          "text": [
            "INFO:     Shutting down\n",
            "INFO:     Waiting for application shutdown.\n",
            "INFO:     Application shutdown complete.\n",
            "INFO:     Finished server process [305]\n"
          ]
        }
      ]
    }
  ]
}