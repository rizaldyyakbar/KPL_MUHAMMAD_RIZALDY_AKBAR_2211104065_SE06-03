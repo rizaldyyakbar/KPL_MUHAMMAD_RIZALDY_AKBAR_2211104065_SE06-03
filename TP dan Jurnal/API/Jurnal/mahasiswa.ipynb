{
  "nbformat": 4,
  "nbformat_minor": 0,
  "metadata": {
    "colab": {
      "provenance": []
    },
    "kernelspec": {
      "name": "python3",
      "display_name": "Python 3"
    },
    "language_info": {
      "name": "python"
    }
  },
  "cells": [
    {
      "cell_type": "code",
      "execution_count": 1,
      "metadata": {
        "colab": {
          "base_uri": "https://localhost:8080/"
        },
        "id": "EBRxfObmfg2m",
        "outputId": "00c672f1-01b1-4ac1-9870-960ab3af6ec8"
      },
      "outputs": [
        {
          "output_type": "stream",
          "name": "stdout",
          "text": [
            "Collecting fastapi\n",
            "  Downloading fastapi-0.115.12-py3-none-any.whl.metadata (27 kB)\n",
            "Collecting uvicorn\n",
            "  Downloading uvicorn-0.34.2-py3-none-any.whl.metadata (6.5 kB)\n",
            "Requirement already satisfied: nest-asyncio in /usr/local/lib/python3.11/dist-packages (1.6.0)\n",
            "Collecting pyngrok\n",
            "  Downloading pyngrok-7.2.9-py3-none-any.whl.metadata (9.3 kB)\n",
            "Collecting starlette<0.47.0,>=0.40.0 (from fastapi)\n",
            "  Downloading starlette-0.46.2-py3-none-any.whl.metadata (6.2 kB)\n",
            "Requirement already satisfied: pydantic!=1.8,!=1.8.1,!=2.0.0,!=2.0.1,!=2.1.0,<3.0.0,>=1.7.4 in /usr/local/lib/python3.11/dist-packages (from fastapi) (2.11.4)\n",
            "Requirement already satisfied: typing-extensions>=4.8.0 in /usr/local/lib/python3.11/dist-packages (from fastapi) (4.13.2)\n",
            "Requirement already satisfied: click>=7.0 in /usr/local/lib/python3.11/dist-packages (from uvicorn) (8.2.1)\n",
            "Requirement already satisfied: h11>=0.8 in /usr/local/lib/python3.11/dist-packages (from uvicorn) (0.16.0)\n",
            "Requirement already satisfied: PyYAML>=5.1 in /usr/local/lib/python3.11/dist-packages (from pyngrok) (6.0.2)\n",
            "Requirement already satisfied: annotated-types>=0.6.0 in /usr/local/lib/python3.11/dist-packages (from pydantic!=1.8,!=1.8.1,!=2.0.0,!=2.0.1,!=2.1.0,<3.0.0,>=1.7.4->fastapi) (0.7.0)\n",
            "Requirement already satisfied: pydantic-core==2.33.2 in /usr/local/lib/python3.11/dist-packages (from pydantic!=1.8,!=1.8.1,!=2.0.0,!=2.0.1,!=2.1.0,<3.0.0,>=1.7.4->fastapi) (2.33.2)\n",
            "Requirement already satisfied: typing-inspection>=0.4.0 in /usr/local/lib/python3.11/dist-packages (from pydantic!=1.8,!=1.8.1,!=2.0.0,!=2.0.1,!=2.1.0,<3.0.0,>=1.7.4->fastapi) (0.4.1)\n",
            "Requirement already satisfied: anyio<5,>=3.6.2 in /usr/local/lib/python3.11/dist-packages (from starlette<0.47.0,>=0.40.0->fastapi) (4.9.0)\n",
            "Requirement already satisfied: idna>=2.8 in /usr/local/lib/python3.11/dist-packages (from anyio<5,>=3.6.2->starlette<0.47.0,>=0.40.0->fastapi) (3.10)\n",
            "Requirement already satisfied: sniffio>=1.1 in /usr/local/lib/python3.11/dist-packages (from anyio<5,>=3.6.2->starlette<0.47.0,>=0.40.0->fastapi) (1.3.1)\n",
            "Downloading fastapi-0.115.12-py3-none-any.whl (95 kB)\n",
            "\u001b[2K   \u001b[90m━━━━━━━━━━━━━━━━━━━━━━━━━━━━━━━━━━━━━━━━\u001b[0m \u001b[32m95.2/95.2 kB\u001b[0m \u001b[31m3.7 MB/s\u001b[0m eta \u001b[36m0:00:00\u001b[0m\n",
            "\u001b[?25hDownloading uvicorn-0.34.2-py3-none-any.whl (62 kB)\n",
            "\u001b[2K   \u001b[90m━━━━━━━━━━━━━━━━━━━━━━━━━━━━━━━━━━━━━━━━\u001b[0m \u001b[32m62.5/62.5 kB\u001b[0m \u001b[31m2.7 MB/s\u001b[0m eta \u001b[36m0:00:00\u001b[0m\n",
            "\u001b[?25hDownloading pyngrok-7.2.9-py3-none-any.whl (25 kB)\n",
            "Downloading starlette-0.46.2-py3-none-any.whl (72 kB)\n",
            "\u001b[2K   \u001b[90m━━━━━━━━━━━━━━━━━━━━━━━━━━━━━━━━━━━━━━━━\u001b[0m \u001b[32m72.0/72.0 kB\u001b[0m \u001b[31m2.6 MB/s\u001b[0m eta \u001b[36m0:00:00\u001b[0m\n",
            "\u001b[?25hInstalling collected packages: uvicorn, pyngrok, starlette, fastapi\n",
            "Successfully installed fastapi-0.115.12 pyngrok-7.2.9 starlette-0.46.2 uvicorn-0.34.2\n"
          ]
        }
      ],
      "source": [
        "!pip install fastapi uvicorn nest-asyncio pyngrok\n",
        "\n",
        "from fastapi import FastAPI, HTTPException\n",
        "from pydantic import BaseModel\n",
        "from typing import List\n",
        "import nest_asyncio\n",
        "from pyngrok import ngrok, conf\n",
        "import uvicorn"
      ]
    },
    {
      "cell_type": "code",
      "source": [
        "app = FastAPI()\n",
        "conf.get_default().auth_token = \"2xoe1iLvB1oewvMCMdaY9KYsHiZ_6UTySbRnStUwA48EVf3jY\"\n"
      ],
      "metadata": {
        "id": "_wEVkHYefok2"
      },
      "execution_count": 2,
      "outputs": []
    },
    {
      "cell_type": "code",
      "source": [
        "class Mahasiswa(BaseModel):\n",
        "    name: str\n",
        "    nim: str\n",
        "    course: List[str]\n",
        "    year: int"
      ],
      "metadata": {
        "id": "IxNjT3TEfwQW"
      },
      "execution_count": 3,
      "outputs": []
    },
    {
      "cell_type": "code",
      "source": [
        "mahasiswa_list = [\n",
        "    {\n",
        "        \"name\": \"Muhammad Hadziq Subono\",\n",
        "        \"nim\": \"1101220001\",\n",
        "        \"course\": [\"Pemrograman Web\", \"Kecerdasan Buatan\"],\n",
        "        \"year\": 2022\n",
        "    },\n",
        "    {\n",
        "        \"name\": \"Andi Setiawan\",\n",
        "        \"nim\": \"1101220002\",\n",
        "        \"course\": [\"Basis Data\", \"Jaringan Komputer\"],\n",
        "        \"year\": 2022\n",
        "    },\n",
        "    {\n",
        "        \"name\": \"Siti Nurhaliza\",\n",
        "        \"nim\": \"1101220003\",\n",
        "        \"course\": [\"Struktur Data\", \"Etika Profesi\"],\n",
        "        \"year\": 2022\n",
        "    }\n",
        "]"
      ],
      "metadata": {
        "id": "ua9fUa8ufykz"
      },
      "execution_count": 4,
      "outputs": []
    },
    {
      "cell_type": "code",
      "source": [
        "@app.get(\"/api/Mahasiswa\")\n",
        "def get_mahasiswa():\n",
        "    return mahasiswa_list\n",
        "\n",
        "@app.get(\"/api/Mahasiswa/{id}\")\n",
        "def get_mahasiswa_by_id(id: int):\n",
        "    if 0 <= id < len(mahasiswa_list):\n",
        "        return mahasiswa_list[id]\n",
        "    return {\"error\": \"Mahasiswa tidak ditemukan\"}\n",
        "\n",
        "@app.post(\"/api/Mahasiswa\")\n",
        "def add_mahasiswa(mhs: Mahasiswa):\n",
        "    mahasiswa_list.append(mhs.dict())\n",
        "    return {\"pesan\": \"Mahasiswa berhasil ditambahkan\"}\n",
        "\n",
        "@app.delete(\"/api/Mahasiswa/{id}\")\n",
        "def delete_mahasiswa(id: int):\n",
        "    if 0 <= id < len(mahasiswa_list):\n",
        "        deleted = mahasiswa_list.pop(id)\n",
        "        return {\"pesan\": \"Mahasiswa berhasil dihapus\", \"data\": deleted}\n",
        "    return {\"error\": \"Mahasiswa tidak ditemukan\"}"
      ],
      "metadata": {
        "id": "0Xej0ugCfy2_"
      },
      "execution_count": 5,
      "outputs": []
    },
    {
      "cell_type": "code",
      "source": [
        "nest_asyncio.apply()\n",
        "tunnel = ngrok.connect(8000)\n",
        "print(\"🔗 Swagger Docs:\", tunnel.public_url + \"/docs\")\n",
        "print(\"🔗 API Root:\", tunnel.public_url)\n",
        "uvicorn.run(app, port=8000)"
      ],
      "metadata": {
        "colab": {
          "base_uri": "https://localhost:8080/"
        },
        "id": "l-lcQJiMfy5m",
        "outputId": "adf01f13-a1cd-4831-a255-b383d99c0d66"
      },
      "execution_count": null,
      "outputs": [
        {
          "output_type": "stream",
          "name": "stdout",
          "text": []
        },
        {
          "output_type": "stream",
          "name": "stderr",
          "text": [
            "INFO:     Started server process [1063]\n",
            "INFO:     Waiting for application startup.\n",
            "INFO:     Application startup complete.\n",
            "INFO:     Uvicorn running on http://127.0.0.1:8000 (Press CTRL+C to quit)\n"
          ]
        },
        {
          "output_type": "stream",
          "name": "stdout",
          "text": [
            "🔗 Swagger Docs: https://dccb-35-233-195-161.ngrok-free.app/docs\n",
            "🔗 API Root: https://dccb-35-233-195-161.ngrok-free.app\n",
            "INFO:     158.140.167.3:0 - \"GET /docs HTTP/1.1\" 200 OK\n",
            "INFO:     158.140.167.3:0 - \"GET /openapi.json HTTP/1.1\" 200 OK\n",
            "INFO:     158.140.167.3:0 - \"GET /api/Mahasiswa HTTP/1.1\" 200 OK\n",
            "INFO:     158.140.167.3:0 - \"GET /api/Mahasiswa HTTP/1.1\" 200 OK\n",
            "INFO:     158.140.167.3:0 - \"POST /api/Mahasiswa HTTP/1.1\" 200 OK\n"
          ]
        },
        {
          "output_type": "stream",
          "name": "stderr",
          "text": [
            "<ipython-input-5-35c7eaba29f6>:13: PydanticDeprecatedSince20: The `dict` method is deprecated; use `model_dump` instead. Deprecated in Pydantic V2.0 to be removed in V3.0. See Pydantic V2 Migration Guide at https://errors.pydantic.dev/2.11/migration/\n",
            "  mahasiswa_list.append(mhs.dict())\n"
          ]
        },
        {
          "output_type": "stream",
          "name": "stdout",
          "text": [
            "INFO:     158.140.167.3:0 - \"POST /api/Mahasiswa HTTP/1.1\" 200 OK\n",
            "INFO:     158.140.167.3:0 - \"GET /api/Mahasiswa/2 HTTP/1.1\" 200 OK\n",
            "INFO:     158.140.167.3:0 - \"GET /api/Mahasiswa/2 HTTP/1.1\" 200 OK\n",
            "INFO:     158.140.167.3:0 - \"DELETE /api/Mahasiswa/2 HTTP/1.1\" 200 OK\n",
            "INFO:     158.140.167.3:0 - \"DELETE /api/Mahasiswa/2 HTTP/1.1\" 200 OK\n"
          ]
        }
      ]
    }
  ]
}